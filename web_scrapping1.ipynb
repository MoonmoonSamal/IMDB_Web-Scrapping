{
 "cells": [
  {
   "cell_type": "code",
   "execution_count": 1,
   "id": "e7597ac6-fcb1-4d21-a9fd-a919bc527213",
   "metadata": {},
   "outputs": [],
   "source": [
    "from selenium import webdriver\n",
    "from selenium.webdriver.common.by import By\n",
    "from bs4 import BeautifulSoup\n",
    "import requests\n",
    "import time\n",
    "import re\n",
    "import pandas as pd\n",
    "from selenium.webdriver.support.ui import WebDriverWait"
   ]
  },
  {
   "cell_type": "code",
   "execution_count": 2,
   "id": "080922c7-586b-443d-9a6f-f4d05eea7976",
   "metadata": {},
   "outputs": [],
   "source": [
    "driver = webdriver.Chrome()\n",
    "wait = WebDriverWait(driver, 10, poll_frequency=1)\n",
    "driver.get('https://www.imdb.com/chart/top/')\n",
    "time.sleep(5)\n",
    "driver.maximize_window()"
   ]
  },
  {
   "cell_type": "code",
   "execution_count": 3,
   "id": "68115025-42b5-41fe-b244-1abd8870699d",
   "metadata": {},
   "outputs": [],
   "source": [
    "all = driver.find_elements(By.CSS_SELECTOR, \"div.ipc-metadata-list-summary-item__c\")"
   ]
  },
  {
   "cell_type": "code",
   "execution_count": 4,
   "id": "f3d4cc07-159a-4fcd-9f47-3ef65ccd8e4a",
   "metadata": {},
   "outputs": [
    {
     "name": "stdout",
     "output_type": "stream",
     "text": [
      "['1. The Shawshank Redemption\\n1994\\n2h 22m\\nR\\n9.3\\n (2.9M)\\nRate', '2. The Godfather\\n1972\\n2h 55m\\nR\\n9.2\\n (2M)\\nRate', '3. The Dark Knight\\n2008\\n2h 32m\\nPG-13\\n9.0\\n (2.9M)\\nRate', '4. The Godfather Part II\\n1974\\n3h 22m\\nR\\n9.0\\n (1.4M)\\nRate', '5. 12 Angry Men\\n1957\\n1h 36m\\nApproved\\n9.0\\n (877K)\\nRate', \"6. Schindler's List\\n1993\\n3h 15m\\nR\\n9.0\\n (1.5M)\\nRate\", '7. The Lord of the Rings: The Return of the King\\n2003\\n3h 21m\\nPG-13\\n9.0\\n (2M)\\nRate', '8. Pulp Fiction\\n1994\\n2h 34m\\nR\\n8.9\\n (2.2M)\\nRate', '9. The Lord of the Rings: The Fellowship of the Ring\\n2001\\n2h 58m\\nPG-13\\n8.9\\n (2M)\\nRate', '10. The Good, the Bad and the Ugly\\n1966\\n2h 58m\\nR\\n8.8\\n (819K)\\nRate', '11. Forrest Gump\\n1994\\n2h 22m\\nPG-13\\n8.8\\n (2.3M)\\nRate', '12. The Lord of the Rings: The Two Towers\\n2002\\n2h 59m\\nPG-13\\n8.8\\n (1.8M)\\nRate', '13. Fight Club\\n1999\\n2h 19m\\nR\\n8.8\\n (2.4M)\\nRate', '14. Inception\\n2010\\n2h 28m\\nPG-13\\n8.8\\n (2.6M)\\nRate', '15. Star Wars: Episode V - The Empire Strikes Back\\n1980\\n2h 4m\\nPG\\n8.7\\n (1.4M)\\nRate', '16. The Matrix\\n1999\\n2h 16m\\nR\\n8.7\\n (2.1M)\\nRate', '17. Goodfellas\\n1990\\n2h 25m\\nR\\n8.7\\n (1.3M)\\nRate', \"18. One Flew Over the Cuckoo's Nest\\n1975\\n2h 13m\\nR\\n8.7\\n (1.1M)\\nRate\", '19. Interstellar\\n2014\\n2h 49m\\nPG-13\\n8.7\\n (2.1M)\\nRate', '20. Se7en\\n1995\\n2h 7m\\nR\\n8.6\\n (1.8M)\\nRate', \"21. It's a Wonderful Life\\n1946\\n2h 10m\\nPG\\n8.6\\n (503K)\\nRate\", '22. Seven Samurai\\n1954\\n3h 27m\\nNot Rated\\n8.6\\n (370K)\\nRate', '23. The Silence of the Lambs\\n1991\\n1h 58m\\nR\\n8.6\\n (1.6M)\\nRate', '24. Saving Private Ryan\\n1998\\n2h 49m\\nR\\n8.6\\n (1.5M)\\nRate', '25. City of God\\n2002\\n2h 10m\\nR\\n8.6\\n (808K)\\nRate', '26. Life Is Beautiful\\n1997\\n1h 56m\\nPG-13\\n8.6\\n (750K)\\nRate', '27. The Green Mile\\n1999\\n3h 9m\\nR\\n8.6\\n (1.4M)\\nRate', '28. Terminator 2: Judgment Day\\n1991\\n2h 17m\\nR\\n8.6\\n (1.2M)\\nRate', '29. Star Wars: Episode IV - A New Hope\\n1977\\n2h 1m\\nPG\\n8.6\\n (1.5M)\\nRate', '30. Back to the Future\\n1985\\n1h 56m\\nPG\\n8.5\\n (1.3M)\\nRate', '31. Spirited Away\\n2001\\n2h 5m\\nPG\\n8.6\\n (863K)\\nRate', '32. The Pianist\\n2002\\n2h 30m\\nR\\n8.5\\n (925K)\\nRate', '33. Parasite\\n2019\\n2h 12m\\nR\\n8.5\\n (980K)\\nRate', '34. Psycho\\n1960\\n1h 49m\\nR\\n8.5\\n (725K)\\nRate', '35. Gladiator\\n2000\\n2h 35m\\nR\\n8.5\\n (1.6M)\\nRate', '36. The Lion King\\n1994\\n1h 28m\\nG\\n8.5\\n (1.2M)\\nRate', '37. Spider-Man: Across the Spider-Verse\\n2023\\n2h 20m\\nPG\\n8.6\\n (390K)\\nRate', '38. Dune: Part Two\\n2024\\n2h 46m\\nPG-13\\n8.5\\n (486K)\\nRate', '39. The Departed\\n2006\\n2h 31m\\nR\\n8.5\\n (1.4M)\\nRate', '40. Léon: The Professional\\n1994\\n1h 50m\\nR\\n8.5\\n (1.3M)\\nRate', '41. American History X\\n1998\\n1h 59m\\nR\\n8.5\\n (1.2M)\\nRate', '42. Whiplash\\n2014\\n1h 46m\\nR\\n8.5\\n (1M)\\nRate', '43. The Prestige\\n2006\\n2h 10m\\nPG-13\\n8.5\\n (1.5M)\\nRate', '44. Grave of the Fireflies\\n1988\\n1h 28m\\nNot Rated\\n8.5\\n (316K)\\nRate', '45. Harakiri\\n1962\\n2h 13m\\nNot Rated\\n8.6\\n (70K)\\nRate', '46. The Usual Suspects\\n1995\\n1h 46m\\nR\\n8.5\\n (1.2M)\\nRate', '47. Casablanca\\n1942\\n1h 42m\\nPG\\n8.5\\n (611K)\\nRate', '48. The Intouchables\\n2011\\n1h 52m\\nR\\n8.5\\n (939K)\\nRate', '49. Cinema Paradiso\\n1988\\n2h 54m\\nPG\\n8.5\\n (286K)\\nRate', '50. Modern Times\\n1936\\n1h 27m\\nG\\n8.5\\n (262K)\\nRate', '51. Rear Window\\n1954\\n1h 52m\\nPG\\n8.5\\n (527K)\\nRate', '52. Once Upon a Time in the West\\n1968\\n2h 46m\\nPG-13\\n8.5\\n (352K)\\nRate', '53. Alien\\n1979\\n1h 57m\\nR\\n8.5\\n (962K)\\nRate', '54. City Lights\\n1931\\n1h 27m\\nG\\n8.5\\n (198K)\\nRate', '55. Django Unchained\\n2012\\n2h 45m\\nR\\n8.5\\n (1.7M)\\nRate', '56. Apocalypse Now\\n1979\\n2h 27m\\nR\\n8.4\\n (717K)\\nRate', '57. Memento\\n2000\\n1h 53m\\nR\\n8.4\\n (1.3M)\\nRate', '58. WALL·E\\n2008\\n1h 38m\\nG\\n8.4\\n (1.2M)\\nRate', '59. Raiders of the Lost Ark\\n1981\\n1h 55m\\nPG\\n8.4\\n (1M)\\nRate', '60. 12th Fail\\n2023\\n2h 27m\\n8.9\\n (124K)\\nRate', '61. The Lives of Others\\n2006\\n2h 17m\\nR\\n8.4\\n (414K)\\nRate', '62. Sunset Boulevard\\n1950\\n1h 50m\\nApproved\\n8.4\\n (239K)\\nRate', '63. Avengers: Infinity War\\n2018\\n2h 29m\\nPG-13\\n8.4\\n (1.2M)\\nRate', '64. Paths of Glory\\n1957\\n1h 28m\\nApproved\\n8.4\\n (215K)\\nRate', '65. Spider-Man: Into the Spider-Verse\\n2018\\n1h 57m\\nPG\\n8.4\\n (685K)\\nRate', '66. Witness for the Prosecution\\n1957\\n1h 56m\\nApproved\\n8.4\\n (140K)\\nRate', '67. The Shining\\n1980\\n2h 26m\\nR\\n8.4\\n (1.1M)\\nRate', '68. The Great Dictator\\n1940\\n2h 5m\\nG\\n8.4\\n (239K)\\nRate', '69. Aliens\\n1986\\n2h 17m\\nR\\n8.4\\n (771K)\\nRate', '70. Inglourious Basterds\\n2009\\n2h 33m\\nR\\n8.4\\n (1.6M)\\nRate', '71. The Dark Knight Rises\\n2012\\n2h 44m\\nPG-13\\n8.4\\n (1.8M)\\nRate', '72. Coco\\n2017\\n1h 45m\\nPG\\n8.4\\n (604K)\\nRate', '73. Amadeus\\n1984\\n2h 40m\\nPG\\n8.4\\n (432K)\\nRate', '74. Dr. Strangelove or: How I Learned to Stop Worrying and Love the Bomb\\n1964\\n1h 35m\\nPG\\n8.3\\n (522K)\\nRate', '75. Oldboy\\n2003\\n2h\\nR\\n8.3\\n (644K)\\nRate', '76. American Beauty\\n1999\\n2h 2m\\nR\\n8.3\\n (1.2M)\\nRate', '77. Toy Story\\n1995\\n1h 21m\\nG\\n8.3\\n (1.1M)\\nRate', '78. Avengers: Endgame\\n2019\\n3h 1m\\nPG-13\\n8.4\\n (1.3M)\\nRate', '79. Braveheart\\n1995\\n2h 58m\\nR\\n8.3\\n (1.1M)\\nRate', '80. Das Boot\\n1981\\n2h 29m\\n8.4\\n (266K)\\nRate', '81. Good Will Hunting\\n1997\\n2h 6m\\nR\\n8.3\\n (1.1M)\\nRate', '82. Princess Mononoke\\n1997\\n2h 14m\\nPG-13\\n8.3\\n (439K)\\nRate', '83. Joker\\n2019\\n2h 2m\\nR\\n8.4\\n (1.5M)\\nRate', '84. Your Name.\\n2016\\n1h 46m\\n8.4\\n (328K)\\nRate', '85. High and Low\\n1963\\n2h 23m\\nNot Rated\\n8.4\\n (54K)\\nRate', '86. 3 Idiots\\n2009\\n2h 50m\\nPG-13\\n8.4\\n (440K)\\nRate', '87. Once Upon a Time in America\\n1984\\n3h 49m\\nR\\n8.3\\n (381K)\\nRate', \"88. Singin' in the Rain\\n1952\\n1h 43m\\nG\\n8.3\\n (263K)\\nRate\", '89. Capernaum\\n2018\\n2h 6m\\nR\\n8.4\\n (108K)\\nRate', '90. Come and See\\n1985\\n2h 22m\\nNot Rated\\n8.4\\n (100K)\\nRate', '91. Requiem for a Dream\\n2000\\n1h 42m\\nNC-17\\n8.3\\n (908K)\\nRate', '92. Toy Story 3\\n2010\\n1h 43m\\nG\\n8.3\\n (901K)\\nRate', '93. Star Wars: Episode VI - Return of the Jedi\\n1983\\n2h 11m\\nPG\\n8.3\\n (1.1M)\\nRate', '94. Eternal Sunshine of the Spotless Mind\\n2004\\n1h 48m\\nR\\n8.3\\n (1.1M)\\nRate', '95. The Hunt\\n2012\\n1h 55m\\nR\\n8.3\\n (369K)\\nRate', '96. 2001: A Space Odyssey\\n1968\\n2h 29m\\nG\\n8.3\\n (726K)\\nRate', '97. Reservoir Dogs\\n1992\\n1h 39m\\nR\\n8.3\\n (1.1M)\\nRate', '98. Ikiru\\n1952\\n2h 23m\\nNot Rated\\n8.3\\n (89K)\\nRate', '99. Lawrence of Arabia\\n1962\\n3h 38m\\nPG\\n8.3\\n (317K)\\nRate', '100. The Apartment\\n1960\\n2h 5m\\nApproved\\n8.3\\n (199K)\\nRate', '101. Oppenheimer\\n2023\\n3h\\nR\\n8.3\\n (776K)\\nRate', '102. Incendies\\n2010\\n2h 11m\\nR\\n8.3\\n (207K)\\nRate', '103. North by Northwest\\n1959\\n2h 16m\\nApproved\\n8.3\\n (349K)\\nRate', '104. Citizen Kane\\n1941\\n1h 59m\\nPG\\n8.3\\n (469K)\\nRate', '105. Scarface\\n1983\\n2h 50m\\nR\\n8.3\\n (927K)\\nRate', '106. Double Indemnity\\n1944\\n1h 47m\\nApproved\\n8.3\\n (169K)\\nRate', '107. M\\n1931\\n1h 39m\\nPassed\\n8.3\\n (170K)\\nRate', '108. Vertigo\\n1958\\n2h 8m\\nPG\\n8.3\\n (431K)\\nRate', '109. Full Metal Jacket\\n1987\\n1h 56m\\nR\\n8.3\\n (797K)\\nRate', '110. Amélie\\n2001\\n2h 2m\\nR\\n8.3\\n (799K)\\nRate', '111. Heat\\n1995\\n2h 50m\\nR\\n8.3\\n (727K)\\nRate', '112. Up\\n2009\\n1h 36m\\nPG\\n8.3\\n (1.1M)\\nRate', '113. A Clockwork Orange\\n1971\\n2h 16m\\nR\\n8.3\\n (888K)\\nRate', '114. To Kill a Mockingbird\\n1962\\n2h 9m\\nApproved\\n8.3\\n (335K)\\nRate', '115. The Sting\\n1973\\n2h 9m\\nPG\\n8.3\\n (282K)\\nRate', '116. A Separation\\n2011\\n2h 3m\\nPG-13\\n8.3\\n (261K)\\nRate', '117. Die Hard\\n1988\\n2h 12m\\nR\\n8.2\\n (954K)\\nRate', '118. Indiana Jones and the Last Crusade\\n1989\\n2h 7m\\nPG-13\\n8.2\\n (817K)\\nRate', '119. Like Stars on Earth\\n2007\\n2h 42m\\nPG\\n8.3\\n (209K)\\nRate', '120. Metropolis\\n1927\\n2h 33m\\nNot Rated\\n8.3\\n (187K)\\nRate', '121. Snatch\\n2000\\n1h 42m\\nR\\n8.2\\n (918K)\\nRate', '122. 1917\\n2019\\n1h 59m\\nR\\n8.2\\n (689K)\\nRate', '123. L.A. Confidential\\n1997\\n2h 18m\\nR\\n8.2\\n (623K)\\nRate', '124. Bicycle Thieves\\n1948\\n1h 29m\\nNot Rated\\n8.3\\n (177K)\\nRate', '125. Hamilton\\n2020\\n2h 40m\\nPG-13\\n8.3\\n (116K)\\nRate', '126. Taxi Driver\\n1976\\n1h 54m\\nR\\n8.2\\n (933K)\\nRate', '127. Downfall\\n2004\\n2h 36m\\nR\\n8.2\\n (378K)\\nRate', '128. Dangal\\n2016\\n2h 41m\\nNot Rated\\n8.3\\n (214K)\\nRate', '129. Batman Begins\\n2005\\n2h 20m\\nPG-13\\n8.2\\n (1.6M)\\nRate', '130. For a Few Dollars More\\n1965\\n2h 12m\\nR\\n8.2\\n (278K)\\nRate', '131. The Wolf of Wall Street\\n2013\\n3h\\nR\\n8.2\\n (1.6M)\\nRate', '132. Green Book\\n2018\\n2h 10m\\nPG-13\\n8.2\\n (585K)\\nRate', '133. Some Like It Hot\\n1959\\n2h 1m\\nApproved\\n8.2\\n (286K)\\nRate', '134. The Kid\\n1921\\n1h 8m\\nPassed\\n8.2\\n (136K)\\nRate', '135. The Father\\n2020\\n1h 37m\\nPG-13\\n8.2\\n (197K)\\nRate', '136. Judgment at Nuremberg\\n1961\\n2h 59m\\nApproved\\n8.3\\n (86K)\\nRate', '137. The Truman Show\\n1998\\n1h 43m\\nPG\\n8.2\\n (1.2M)\\nRate', '138. All About Eve\\n1950\\n2h 18m\\nApproved\\n8.2\\n (140K)\\nRate', '139. Shutter Island\\n2010\\n2h 18m\\nR\\n8.2\\n (1.5M)\\nRate', '140. There Will Be Blood\\n2007\\n2h 38m\\nR\\n8.2\\n (647K)\\nRate', '141. Top Gun: Maverick\\n2022\\n2h 10m\\nPG-13\\n8.2\\n (719K)\\nRate', '142. Casino\\n1995\\n2h 58m\\nR\\n8.2\\n (570K)\\nRate', '143. Jurassic Park\\n1993\\n2h 7m\\nPG-13\\n8.2\\n (1.1M)\\nRate', '144. Ran\\n1985\\n2h 40m\\nR\\n8.2\\n (138K)\\nRate', '145. The Sixth Sense\\n1999\\n1h 47m\\nPG-13\\n8.2\\n (1.1M)\\nRate', \"146. Pan's Labyrinth\\n2006\\n1h 58m\\nR\\n8.2\\n (708K)\\nRate\", '147. Unforgiven\\n1992\\n2h 10m\\nR\\n8.2\\n (440K)\\nRate', '148. No Country for Old Men\\n2007\\n2h 2m\\nR\\n8.2\\n (1.1M)\\nRate', '149. A Beautiful Mind\\n2001\\n2h 15m\\nPG-13\\n8.2\\n (995K)\\nRate', '150. The Thing\\n1982\\n1h 49m\\nR\\n8.2\\n (473K)\\nRate', '151. Kill Bill: Vol. 1\\n2003\\n1h 51m\\nR\\n8.2\\n (1.2M)\\nRate', '152. The Treasure of the Sierra Madre\\n1948\\n2h 6m\\nApproved\\n8.2\\n (133K)\\nRate', '153. Yojimbo\\n1961\\n1h 50m\\nNot Rated\\n8.2\\n (133K)\\nRate', '154. The Great Escape\\n1963\\n2h 52m\\nApproved\\n8.2\\n (261K)\\nRate', '155. Monty Python and the Holy Grail\\n1975\\n1h 31m\\nPG\\n8.2\\n (574K)\\nRate', '156. Finding Nemo\\n2003\\n1h 40m\\nG\\n8.2\\n (1.1M)\\nRate', '157. Prisoners\\n2013\\n2h 33m\\nR\\n8.2\\n (822K)\\nRate', \"158. Howl's Moving Castle\\n2004\\n1h 59m\\nPG\\n8.2\\n (457K)\\nRate\", '159. Rashomon\\n1950\\n1h 28m\\nNot Rated\\n8.2\\n (182K)\\nRate', '160. The Elephant Man\\n1980\\n2h 4m\\nPG\\n8.2\\n (260K)\\nRate', '161. Dial M for Murder\\n1954\\n1h 45m\\nPG\\n8.2\\n (191K)\\nRate', '162. Chinatown\\n1974\\n2h 10m\\nR\\n8.1\\n (354K)\\nRate', '163. Gone with the Wind\\n1939\\n3h 58m\\nG\\n8.2\\n (337K)\\nRate', '164. Lock, Stock and Two Smoking Barrels\\n1998\\n1h 47m\\nR\\n8.1\\n (621K)\\nRate', '165. V for Vendetta\\n2005\\n2h 12m\\nR\\n8.1\\n (1.2M)\\nRate', '166. Inside Out\\n2015\\n1h 35m\\nPG\\n8.1\\n (816K)\\nRate', '167. The Secret in Their Eyes\\n2009\\n2h 9m\\nR\\n8.2\\n (224K)\\nRate', '168. Raging Bull\\n1980\\n2h 9m\\nR\\n8.1\\n (383K)\\nRate', '169. Three Billboards Outside Ebbing, Missouri\\n2017\\n1h 55m\\nR\\n8.1\\n (561K)\\nRate', '170. Trainspotting\\n1996\\n1h 33m\\nR\\n8.1\\n (731K)\\nRate', '171. The Bridge on the River Kwai\\n1957\\n2h 41m\\nPG\\n8.1\\n (235K)\\nRate', '172. Klaus\\n2019\\n1h 36m\\nPG\\n8.2\\n (193K)\\nRate', '173. Catch Me If You Can\\n2002\\n2h 21m\\nPG-13\\n8.1\\n (1.1M)\\nRate', '174. Fargo\\n1996\\n1h 38m\\nR\\n8.1\\n (733K)\\nRate', '175. Warrior\\n2011\\n2h 20m\\nPG-13\\n8.1\\n (501K)\\nRate', '176. Spider-Man: No Way Home\\n2021\\n2h 28m\\nPG-13\\n8.2\\n (896K)\\nRate', '177. Gran Torino\\n2008\\n1h 56m\\nR\\n8.1\\n (820K)\\nRate', '178. Harry Potter and the Deathly Hallows: Part 2\\n2011\\n2h 10m\\nPG-13\\n8.1\\n (958K)\\nRate', '179. Million Dollar Baby\\n2004\\n2h 12m\\nPG-13\\n8.1\\n (727K)\\nRate', '180. My Neighbor Totoro\\n1988\\n1h 26m\\nG\\n8.1\\n (386K)\\nRate', '181. Children of Heaven\\n1997\\n1h 29m\\nPG\\n8.2\\n (82K)\\nRate', '182. 12 Years a Slave\\n2013\\n2h 14m\\nR\\n8.1\\n (746K)\\nRate', '183. Ben-Hur\\n1959\\n3h 32m\\nG\\n8.1\\n (255K)\\nRate', '184. Mad Max: Fury Road\\n2015\\n2h\\nR\\n8.1\\n (1.1M)\\nRate', '185. Barry Lyndon\\n1975\\n3h 5m\\nPG\\n8.1\\n (185K)\\nRate', '186. Blade Runner\\n1982\\n1h 57m\\nR\\n8.1\\n (830K)\\nRate', '187. Before Sunrise\\n1995\\n1h 41m\\nR\\n8.1\\n (344K)\\nRate', '188. The Grand Budapest Hotel\\n2014\\n1h 39m\\nR\\n8.1\\n (895K)\\nRate', '189. Hacksaw Ridge\\n2016\\n2h 19m\\nR\\n8.1\\n (604K)\\nRate', '190. Gone Girl\\n2014\\n2h 29m\\nR\\n8.1\\n (1.1M)\\nRate', '191. Dead Poets Society\\n1989\\n2h 8m\\nPG\\n8.1\\n (555K)\\nRate', '192. Memories of Murder\\n2003\\n2h 12m\\nNot Rated\\n8.1\\n (221K)\\nRate', '193. The Gold Rush\\n1925\\n1h 35m\\nApproved\\n8.1\\n (120K)\\nRate', '194. In the Name of the Father\\n1993\\n2h 13m\\nR\\n8.1\\n (189K)\\nRate', '195. Monsters, Inc.\\n2001\\n1h 32m\\nG\\n8.1\\n (990K)\\nRate', '196. Wild Tales\\n2014\\n2h 2m\\nR\\n8.1\\n (219K)\\nRate', '197. The Deer Hunter\\n1978\\n3h 3m\\nR\\n8.1\\n (365K)\\nRate', '198. The General\\n1926\\n1h 18m\\nPassed\\n8.1\\n (99K)\\nRate', '199. On the Waterfront\\n1954\\n1h 48m\\nApproved\\n8.1\\n (167K)\\nRate', '200. Sherlock Jr.\\n1924\\n45m\\nPassed\\n8.2\\n (58K)\\nRate', '201. Jaws\\n1975\\n2h 4m\\nPG\\n8.1\\n (669K)\\nRate', '202. How to Train Your Dragon\\n2010\\n1h 38m\\nPG\\n8.1\\n (809K)\\nRate', '203. Ratatouille\\n2007\\n1h 51m\\nG\\n8.1\\n (839K)\\nRate', '204. Mary and Max\\n2009\\n1h 32m\\nNot Rated\\n8.1\\n (188K)\\nRate', '205. The Third Man\\n1949\\n1h 33m\\nApproved\\n8.1\\n (183K)\\nRate', '206. The Wages of Fear\\n1953\\n2h 11m\\nNot Rated\\n8.1\\n (67K)\\nRate', '207. Wild Strawberries\\n1957\\n1h 31m\\nNot Rated\\n8.1\\n (116K)\\nRate', '208. Mr. Smith Goes to Washington\\n1939\\n2h 9m\\nApproved\\n8.1\\n (122K)\\nRate', '209. Ford v Ferrari\\n2019\\n2h 32m\\nPG-13\\n8.1\\n (488K)\\nRate', '210. Deadpool & Wolverine\\n2024\\n2h 8m\\nR\\n8.2\\n (126K)\\nRate', '211. Tokyo Story\\n1953\\n2h 16m\\nNot Rated\\n8.1\\n (70K)\\nRate', '212. Rocky\\n1976\\n2h\\nPG\\n8.1\\n (635K)\\nRate', '213. The Big Lebowski\\n1998\\n1h 57m\\nR\\n8.1\\n (867K)\\nRate', '214. The Seventh Seal\\n1957\\n1h 36m\\nNot Rated\\n8.1\\n (201K)\\nRate', '215. Logan\\n2017\\n2h 17m\\nR\\n8.1\\n (846K)\\nRate', '216. Room\\n2015\\n1h 58m\\nR\\n8.1\\n (454K)\\nRate', '217. Spotlight\\n2015\\n2h 9m\\nR\\n8.1\\n (506K)\\nRate', '218. The Terminator\\n1984\\n1h 47m\\nR\\n8.1\\n (934K)\\nRate', '219. Hotel Rwanda\\n2004\\n2h 1m\\nPG-13\\n8.1\\n (374K)\\nRate', '220. Platoon\\n1986\\n2h\\nR\\n8.1\\n (443K)\\nRate', '221. La haine\\n1995\\n1h 38m\\nNot Rated\\n8.1\\n (200K)\\nRate', '222. Before Sunset\\n2004\\n1h 20m\\nR\\n8.1\\n (291K)\\nRate', '223. Pirates of the Caribbean: The Curse of the Black Pearl\\n2003\\n2h 23m\\nPG-13\\n8.1\\n (1.2M)\\nRate', '224. The Passion of Joan of Arc\\n1928\\n1h 54m\\nPassed\\n8.1\\n (61K)\\nRate', '225. Jai Bhim\\n2021\\n2h 44m\\nApproved\\n8.7\\n (219K)\\nRate', '226. The Best Years of Our Lives\\n1946\\n2h 50m\\nApproved\\n8.1\\n (71K)\\nRate', '227. The Exorcist\\n1973\\n2h 2m\\nR\\n8.1\\n (460K)\\nRate', '228. Rush\\n2013\\n2h 3m\\nR\\n8.1\\n (519K)\\nRate', '229. Network\\n1976\\n2h 1m\\nR\\n8.1\\n (173K)\\nRate', '230. The Wizard of Oz\\n1939\\n1h 42m\\nG\\n8.1\\n (432K)\\nRate', '231. The Incredibles\\n2004\\n1h 55m\\nPG\\n8.0\\n (820K)\\nRate', '232. Stand by Me\\n1986\\n1h 29m\\nR\\n8.1\\n (447K)\\nRate', \"233. Hachi: A Dog's Tale\\n2009\\n1h 33m\\nG\\n8.1\\n (315K)\\nRate\", '234. Maharaja\\n2024\\n2h 30m\\n8.7\\n (30K)\\nRate', '235. The Sound of Music\\n1965\\n2h 52m\\nG\\n8.1\\n (264K)\\nRate', '236. My Father and My Son\\n2005\\n1h 52m\\nNot Rated\\n8.2\\n (93K)\\nRate', '237. The Handmaiden\\n2016\\n2h 25m\\nNot Rated\\n8.1\\n (176K)\\nRate', '238. To Be or Not to Be\\n1942\\n1h 39m\\nApproved\\n8.1\\n (44K)\\nRate', '239. Into the Wild\\n2007\\n2h 28m\\nR\\n8.1\\n (663K)\\nRate', '240. The Battle of Algiers\\n1966\\n2h 1m\\nNot Rated\\n8.1\\n (66K)\\nRate', '241. Groundhog Day\\n1993\\n1h 41m\\nPG\\n8.0\\n (691K)\\nRate', '242. The Grapes of Wrath\\n1940\\n2h 9m\\nApproved\\n8.1\\n (101K)\\nRate', '243. The Iron Giant\\n1999\\n1h 26m\\nPG\\n8.1\\n (231K)\\nRate', '244. Amores Perros\\n2000\\n2h 34m\\nR\\n8.1\\n (255K)\\nRate', '245. Rebecca\\n1940\\n2h 10m\\nApproved\\n8.1\\n (148K)\\nRate', '246. Cool Hand Luke\\n1967\\n2h 7m\\nApproved\\n8.1\\n (190K)\\nRate', '247. The Help\\n2011\\n2h 26m\\nPG-13\\n8.1\\n (497K)\\nRate', '248. It Happened One Night\\n1934\\n1h 45m\\nApproved\\n8.1\\n (113K)\\nRate', '249. Aladdin\\n1992\\n1h 30m\\nG\\n8.0\\n (473K)\\nRate', '250. Paris, Texas\\n1984\\n2h 25m\\nR\\n8.1\\n (122K)\\nRate']\n"
     ]
    }
   ],
   "source": [
    "data = []\n",
    "for all in all:\n",
    "    data.append(all.text)\n",
    "print(data)"
   ]
  },
  {
   "cell_type": "code",
   "execution_count": 5,
   "id": "bad17187-fae9-4d65-a3ae-621e170f14a5",
   "metadata": {},
   "outputs": [],
   "source": [
    "all_data = [{\n",
    "        'Movie Name': i.split('\\n')[0].split(' ', 1)[1],\n",
    "        'Year': i.split('\\n')[1],\n",
    "        'Duration': i.split('\\n')[2],\n",
    "        'Grade': i.split('\\n')[3],\n",
    "        'IMDb Rating': i.split('\\n')[4],\n",
    "        'Vote Count': re.sub(r'[()]', '', i.split('\\n')[5])}\n",
    "    for i in data\n",
    "    if len(i.split('\\n')) >= 5]"
   ]
  },
  {
   "cell_type": "code",
   "execution_count": 6,
   "id": "f182cb2f-450a-4bba-82c9-edda84cf2c91",
   "metadata": {},
   "outputs": [
    {
     "data": {
      "text/html": [
       "<div>\n",
       "<style scoped>\n",
       "    .dataframe tbody tr th:only-of-type {\n",
       "        vertical-align: middle;\n",
       "    }\n",
       "\n",
       "    .dataframe tbody tr th {\n",
       "        vertical-align: top;\n",
       "    }\n",
       "\n",
       "    .dataframe thead th {\n",
       "        text-align: right;\n",
       "    }\n",
       "</style>\n",
       "<table border=\"1\" class=\"dataframe\">\n",
       "  <thead>\n",
       "    <tr style=\"text-align: right;\">\n",
       "      <th></th>\n",
       "      <th>Movie Name</th>\n",
       "      <th>Year</th>\n",
       "      <th>Duration</th>\n",
       "      <th>Grade</th>\n",
       "      <th>IMDb Rating</th>\n",
       "      <th>Vote Count</th>\n",
       "    </tr>\n",
       "  </thead>\n",
       "  <tbody>\n",
       "    <tr>\n",
       "      <th>0</th>\n",
       "      <td>The Shawshank Redemption</td>\n",
       "      <td>1994</td>\n",
       "      <td>2h 22m</td>\n",
       "      <td>R</td>\n",
       "      <td>9.3</td>\n",
       "      <td>2.9M</td>\n",
       "    </tr>\n",
       "    <tr>\n",
       "      <th>1</th>\n",
       "      <td>The Godfather</td>\n",
       "      <td>1972</td>\n",
       "      <td>2h 55m</td>\n",
       "      <td>R</td>\n",
       "      <td>9.2</td>\n",
       "      <td>2M</td>\n",
       "    </tr>\n",
       "    <tr>\n",
       "      <th>2</th>\n",
       "      <td>The Dark Knight</td>\n",
       "      <td>2008</td>\n",
       "      <td>2h 32m</td>\n",
       "      <td>PG-13</td>\n",
       "      <td>9.0</td>\n",
       "      <td>2.9M</td>\n",
       "    </tr>\n",
       "    <tr>\n",
       "      <th>3</th>\n",
       "      <td>The Godfather Part II</td>\n",
       "      <td>1974</td>\n",
       "      <td>3h 22m</td>\n",
       "      <td>R</td>\n",
       "      <td>9.0</td>\n",
       "      <td>1.4M</td>\n",
       "    </tr>\n",
       "    <tr>\n",
       "      <th>4</th>\n",
       "      <td>12 Angry Men</td>\n",
       "      <td>1957</td>\n",
       "      <td>1h 36m</td>\n",
       "      <td>Approved</td>\n",
       "      <td>9.0</td>\n",
       "      <td>877K</td>\n",
       "    </tr>\n",
       "    <tr>\n",
       "      <th>...</th>\n",
       "      <td>...</td>\n",
       "      <td>...</td>\n",
       "      <td>...</td>\n",
       "      <td>...</td>\n",
       "      <td>...</td>\n",
       "      <td>...</td>\n",
       "    </tr>\n",
       "    <tr>\n",
       "      <th>245</th>\n",
       "      <td>Cool Hand Luke</td>\n",
       "      <td>1967</td>\n",
       "      <td>2h 7m</td>\n",
       "      <td>Approved</td>\n",
       "      <td>8.1</td>\n",
       "      <td>190K</td>\n",
       "    </tr>\n",
       "    <tr>\n",
       "      <th>246</th>\n",
       "      <td>The Help</td>\n",
       "      <td>2011</td>\n",
       "      <td>2h 26m</td>\n",
       "      <td>PG-13</td>\n",
       "      <td>8.1</td>\n",
       "      <td>497K</td>\n",
       "    </tr>\n",
       "    <tr>\n",
       "      <th>247</th>\n",
       "      <td>It Happened One Night</td>\n",
       "      <td>1934</td>\n",
       "      <td>1h 45m</td>\n",
       "      <td>Approved</td>\n",
       "      <td>8.1</td>\n",
       "      <td>113K</td>\n",
       "    </tr>\n",
       "    <tr>\n",
       "      <th>248</th>\n",
       "      <td>Aladdin</td>\n",
       "      <td>1992</td>\n",
       "      <td>1h 30m</td>\n",
       "      <td>G</td>\n",
       "      <td>8.0</td>\n",
       "      <td>473K</td>\n",
       "    </tr>\n",
       "    <tr>\n",
       "      <th>249</th>\n",
       "      <td>Paris, Texas</td>\n",
       "      <td>1984</td>\n",
       "      <td>2h 25m</td>\n",
       "      <td>R</td>\n",
       "      <td>8.1</td>\n",
       "      <td>122K</td>\n",
       "    </tr>\n",
       "  </tbody>\n",
       "</table>\n",
       "<p>250 rows × 6 columns</p>\n",
       "</div>"
      ],
      "text/plain": [
       "                   Movie Name  Year Duration     Grade IMDb Rating Vote Count\n",
       "0    The Shawshank Redemption  1994   2h 22m         R         9.3       2.9M\n",
       "1               The Godfather  1972   2h 55m         R         9.2         2M\n",
       "2             The Dark Knight  2008   2h 32m     PG-13         9.0       2.9M\n",
       "3       The Godfather Part II  1974   3h 22m         R         9.0       1.4M\n",
       "4                12 Angry Men  1957   1h 36m  Approved         9.0       877K\n",
       "..                        ...   ...      ...       ...         ...        ...\n",
       "245            Cool Hand Luke  1967    2h 7m  Approved         8.1       190K\n",
       "246                  The Help  2011   2h 26m     PG-13         8.1       497K\n",
       "247     It Happened One Night  1934   1h 45m  Approved         8.1       113K\n",
       "248                   Aladdin  1992   1h 30m         G         8.0       473K\n",
       "249              Paris, Texas  1984   2h 25m         R         8.1       122K\n",
       "\n",
       "[250 rows x 6 columns]"
      ]
     },
     "execution_count": 6,
     "metadata": {},
     "output_type": "execute_result"
    }
   ],
   "source": [
    "df = pd.DataFrame(all_data)\n",
    "df"
   ]
  },
  {
   "cell_type": "code",
   "execution_count": 7,
   "id": "5dbce9af-356a-43f6-9ae7-83491a38ddb2",
   "metadata": {},
   "outputs": [],
   "source": [
    "df.to_csv('IMDb_Top_Movie.csv', index=False)"
   ]
  },
  {
   "cell_type": "code",
   "execution_count": null,
   "id": "d6861aeb-bc47-488c-8196-f8828ac8ba97",
   "metadata": {},
   "outputs": [],
   "source": []
  }
 ],
 "metadata": {
  "kernelspec": {
   "display_name": "Python 3 (ipykernel)",
   "language": "python",
   "name": "python3"
  },
  "language_info": {
   "codemirror_mode": {
    "name": "ipython",
    "version": 3
   },
   "file_extension": ".py",
   "mimetype": "text/x-python",
   "name": "python",
   "nbconvert_exporter": "python",
   "pygments_lexer": "ipython3",
   "version": "3.12.4"
  }
 },
 "nbformat": 4,
 "nbformat_minor": 5
}
